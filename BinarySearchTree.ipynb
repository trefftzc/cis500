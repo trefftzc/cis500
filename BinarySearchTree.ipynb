{
  "nbformat": 4,
  "nbformat_minor": 0,
  "metadata": {
    "colab": {
      "provenance": [],
      "authorship_tag": "ABX9TyN9567jI7TlFCnk3q/Kb165",
      "include_colab_link": true
    },
    "kernelspec": {
      "name": "python3",
      "display_name": "Python 3"
    },
    "language_info": {
      "name": "python"
    }
  },
  "cells": [
    {
      "cell_type": "markdown",
      "metadata": {
        "id": "view-in-github",
        "colab_type": "text"
      },
      "source": [
        "<a href=\"https://colab.research.google.com/github/trefftzc/cis500/blob/main/BinarySearchTree.ipynb\" target=\"_parent\"><img src=\"https://colab.research.google.com/assets/colab-badge.svg\" alt=\"Open In Colab\"/></a>"
      ]
    },
    {
      "cell_type": "code",
      "execution_count": null,
      "metadata": {
        "id": "XPTX2h-fFQQ6"
      },
      "outputs": [],
      "source": []
    },
    {
      "cell_type": "markdown",
      "source": [
        "#Binary Search Trees\n",
        "\n",
        "Code taken from https://runestone.academy/ns/books/published/pythonds/Trees/SearchTreeImplementation.html"
      ],
      "metadata": {
        "id": "Kad-H3-mFRUr"
      }
    },
    {
      "cell_type": "markdown",
      "source": [
        "Again, the building blocks for Binary Trees are Nodes."
      ],
      "metadata": {
        "id": "eIs--cJ9FbJa"
      }
    },
    {
      "cell_type": "code",
      "source": [
        "class TreeNode:\n",
        "  def __init__(self,key,val,left=None,right=None,\n",
        "                                       parent=None):\n",
        "        self.key = key\n",
        "        self.payload = val\n",
        "        self.leftChild = left\n",
        "        self.rightChild = right\n",
        "        self.parent = parent\n",
        "\n",
        "  def hasLeftChild(self):\n",
        "        return self.leftChild\n",
        "\n",
        "  def hasRightChild(self):\n",
        "        return self.rightChild\n",
        "\n",
        "  def isLeftChild(self):\n",
        "        return self.parent and self.parent.leftChild == self\n",
        "\n",
        "  def isRightChild(self):\n",
        "        return self.parent and self.parent.rightChild == self\n",
        "\n",
        "  def isRoot(self):\n",
        "        return not self.parent\n",
        "\n",
        "  def isLeaf(self):\n",
        "        return not (self.rightChild or self.leftChild)\n",
        "\n",
        "  def hasAnyChildren(self):\n",
        "        return self.rightChild or self.leftChild\n",
        "\n",
        "  def hasBothChildren(self):\n",
        "        return self.rightChild and self.leftChild\n",
        "\n",
        "  def replaceNodeData(self,key,value,lc,rc):\n",
        "        self.key = key\n",
        "        self.payload = value\n",
        "        self.leftChild = lc\n",
        "        self.rightChild = rc\n",
        "        if self.hasLeftChild():\n",
        "            self.leftChild.parent = self\n",
        "        if self.hasRightChild():\n",
        "            self.rightChild.parent = self\n"
      ],
      "metadata": {
        "id": "OHvfK_JEFfdp"
      },
      "execution_count": 3,
      "outputs": []
    },
    {
      "cell_type": "markdown",
      "source": [
        "Now the entire Binary Search Tree..."
      ],
      "metadata": {
        "id": "Uyd32hUJHPlB"
      }
    },
    {
      "cell_type": "code",
      "source": [
        "class BinarySearchTree:\n",
        "\n",
        "    def __init__(self):\n",
        "        self.root = None\n",
        "        self.size = 0\n",
        "\n",
        "    def length(self):\n",
        "        return self.size\n",
        "\n",
        "    def __len__(self):\n",
        "        return self.size\n",
        "\n",
        "    def put(self,key,val):\n",
        "        if self.root:\n",
        "            self._put(key,val,self.root)\n",
        "        else:\n",
        "            self.root = TreeNode(key,val)\n",
        "        self.size = self.size + 1\n",
        "\n",
        "    def _put(self,key,val,currentNode):\n",
        "        if key < currentNode.key:\n",
        "            if currentNode.hasLeftChild():\n",
        "                   self._put(key,val,currentNode.leftChild)\n",
        "            else:\n",
        "                   currentNode.leftChild = TreeNode(key,val,parent=currentNode)\n",
        "        else:\n",
        "            if currentNode.hasRightChild():\n",
        "                   self._put(key,val,currentNode.rightChild)\n",
        "            else:\n",
        "                   currentNode.rightChild = TreeNode(key,val,parent=currentNode)\n",
        "\n",
        "    def __setitem__(self,k,v):\n",
        "       self.put(k,v)\n",
        "\n",
        "    def get(self,key):\n",
        "       if self.root:\n",
        "           res = self._get(key,self.root)\n",
        "           if res:\n",
        "                  return res.payload\n",
        "           else:\n",
        "                  return None\n",
        "       else:\n",
        "           return None\n",
        "\n",
        "    def _get(self,key,currentNode):\n",
        "       if not currentNode:\n",
        "           return None\n",
        "       elif currentNode.key == key:\n",
        "           return currentNode\n",
        "       elif key < currentNode.key:\n",
        "           return self._get(key,currentNode.leftChild)\n",
        "       else:\n",
        "           return self._get(key,currentNode.rightChild)\n",
        "\n",
        "    def __getitem__(self,key):\n",
        "       return self.get(key)\n",
        "\n",
        "    def __contains__(self,key):\n",
        "       if self._get(key,self.root):\n",
        "           return True\n",
        "       else:\n",
        "           return False\n",
        "\n",
        "    def delete(self,key):\n",
        "      if self.size > 1:\n",
        "         nodeToRemove = self._get(key,self.root)\n",
        "         if nodeToRemove:\n",
        "             self.remove(nodeToRemove)\n",
        "             self.size = self.size-1\n",
        "         else:\n",
        "             raise KeyError('Error, key not in tree')\n",
        "      elif self.size == 1 and self.root.key == key:\n",
        "         self.root = None\n",
        "         self.size = self.size - 1\n",
        "      else:\n",
        "         raise KeyError('Error, key not in tree')\n",
        "\n",
        "    def __delitem__(self,key):\n",
        "       self.delete(key)\n",
        "\n",
        "    def remove(self,currentNode):\n",
        "         if currentNode.isLeaf(): #leaf\n",
        "           if currentNode == currentNode.parent.leftChild:\n",
        "               currentNode.parent.leftChild = None\n",
        "           else:\n",
        "               currentNode.parent.rightChild = None\n",
        "         elif currentNode.hasBothChildren(): #interior\n",
        "           succ = currentNode.findSuccessor()\n",
        "           succ.spliceOut()\n",
        "           currentNode.key = succ.key\n",
        "           currentNode.payload = succ.payload\n",
        "\n",
        "         else: # this node has one child\n",
        "           if currentNode.hasLeftChild():\n",
        "             if currentNode.isLeftChild():\n",
        "                 currentNode.leftChild.parent = currentNode.parent\n",
        "                 currentNode.parent.leftChild = currentNode.leftChild\n",
        "             elif currentNode.isRightChild():\n",
        "                 currentNode.leftChild.parent = currentNode.parent\n",
        "                 currentNode.parent.rightChild = currentNode.leftChild\n",
        "             else:\n",
        "                 currentNode.replaceNodeData(currentNode.leftChild.key,\n",
        "                                    currentNode.leftChild.payload,\n",
        "                                    currentNode.leftChild.leftChild,\n",
        "                                    currentNode.leftChild.rightChild)\n",
        "           else:\n",
        "             if currentNode.isLeftChild():\n",
        "                 currentNode.rightChild.parent = currentNode.parent\n",
        "                 currentNode.parent.leftChild = currentNode.rightChild\n",
        "             elif currentNode.isRightChild():\n",
        "                 currentNode.rightChild.parent = currentNode.parent\n",
        "                 currentNode.parent.rightChild = currentNode.rightChild\n",
        "             else:\n",
        "                 currentNode.replaceNodeData(currentNode.rightChild.key,\n",
        "                                    currentNode.rightChild.payload,\n",
        "                                    currentNode.rightChild.leftChild,\n",
        "                                    currentNode.rightChild.rightChild)\n",
        "\n",
        "\n",
        "\n",
        "\n",
        "mytree = BinarySearchTree()\n",
        "mytree[3]=\"red\"\n",
        "mytree[4]=\"blue\"\n",
        "mytree[6]=\"yellow\"\n",
        "mytree[2]=\"at\"\n",
        "\n",
        "print(mytree[6])\n",
        "print(mytree[2])\n"
      ],
      "metadata": {
        "colab": {
          "base_uri": "https://localhost:8080/"
        },
        "id": "UwWXtdHXHbcl",
        "outputId": "a8d99603-eca8-4c09-b29d-c5aa615f0aa1"
      },
      "execution_count": 4,
      "outputs": [
        {
          "output_type": "stream",
          "name": "stdout",
          "text": [
            "yellow\n",
            "at\n"
          ]
        }
      ]
    }
  ]
}