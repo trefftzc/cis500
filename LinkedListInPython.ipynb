{
  "nbformat": 4,
  "nbformat_minor": 0,
  "metadata": {
    "colab": {
      "provenance": [],
      "authorship_tag": "ABX9TyNREgmfxITn9n3xAsAEk1Db",
      "include_colab_link": true
    },
    "kernelspec": {
      "name": "python3",
      "display_name": "Python 3"
    },
    "language_info": {
      "name": "python"
    }
  },
  "cells": [
    {
      "cell_type": "markdown",
      "metadata": {
        "id": "view-in-github",
        "colab_type": "text"
      },
      "source": [
        "<a href=\"https://colab.research.google.com/github/trefftzc/cis500/blob/main/LinkedListInPython.ipynb\" target=\"_parent\"><img src=\"https://colab.research.google.com/assets/colab-badge.svg\" alt=\"Open In Colab\"/></a>"
      ]
    },
    {
      "cell_type": "code",
      "execution_count": null,
      "metadata": {
        "id": "i_Wa6b9Hnoge"
      },
      "outputs": [],
      "source": []
    },
    {
      "cell_type": "markdown",
      "source": [
        "# Linked Lists\n",
        "The code below is taken from:\n",
        "\n",
        "https://runestone.academy/ns/books/published/pythonds/index.html\n",
        "\n"
      ],
      "metadata": {
        "id": "3j6b6y0fnp6g"
      }
    },
    {
      "cell_type": "markdown",
      "source": [
        "# The Node class\n",
        "The basic building block for the linked list implementation is the node. Each node object must hold at least two pieces of information. First, the node must contain the list item itself. We will call this the data field of the node. In addition, each node must hold a reference to the next node. Listing 1 shows the Python implementation. To construct a node, you need to supply the initial data value for the node. Evaluating the assignment statement below will yield a node object containing the value 93 (see Figure 3). You should note that we will typically represent a node object as shown in Figure 4. The Node class also includes the usual methods to access and modify the data and the next reference."
      ],
      "metadata": {
        "id": "luJQgZbXn4FF"
      }
    },
    {
      "cell_type": "code",
      "source": [
        "class Node:\n",
        "    def __init__(self,initdata):\n",
        "        self.data = initdata\n",
        "        self.next = None\n",
        "\n",
        "    def getData(self):\n",
        "        return self.data\n",
        "\n",
        "    def getNext(self):\n",
        "        return self.next\n",
        "\n",
        "    def setData(self,newdata):\n",
        "        self.data = newdata\n",
        "\n",
        "    def setNext(self,newnext):\n",
        "        self.next = newnext"
      ],
      "metadata": {
        "id": "XjMKRXijoBus"
      },
      "execution_count": null,
      "outputs": []
    },
    {
      "cell_type": "markdown",
      "source": [
        "We can create nodes using code as follows\n"
      ],
      "metadata": {
        "id": "0Yg_NS1LoGQe"
      }
    },
    {
      "cell_type": "code",
      "source": [
        "temp = Node(93)\n",
        "temp.getData()"
      ],
      "metadata": {
        "colab": {
          "base_uri": "https://localhost:8080/"
        },
        "id": "1V6Ai9i3oLwn",
        "outputId": "2dbde2e8-a3bd-4275-f13a-59702fb0b8a7"
      },
      "execution_count": null,
      "outputs": [
        {
          "output_type": "execute_result",
          "data": {
            "text/plain": [
              "93"
            ]
          },
          "metadata": {},
          "execution_count": 2
        }
      ]
    },
    {
      "cell_type": "markdown",
      "source": [
        "# The Un-ordered Linked List Class\n",
        "The unordered list will be built from a collection of nodes, each linked to the next by explicit references. As long as we know where to find the first node (containing the first item), each item after that can be found by successively following the next links. With this in mind, the UnorderedList class must maintain a reference to the first node. The next code cell shows the constructor. Note that each list object will maintain a single reference to the head of the list."
      ],
      "metadata": {
        "id": "ag_f306JodBc"
      }
    },
    {
      "cell_type": "code",
      "source": [
        "class UnorderedList:\n",
        "\n",
        "    def __init__(self):\n",
        "        self.head = None\n",
        "\n",
        "    def isEmpty(self):\n",
        "      return self.head == None\n",
        "\n",
        "    def add(self,item):\n",
        "      temp = Node(item)\n",
        "      temp.setNext(self.head)\n",
        "      self.head = temp\n",
        "\n",
        "    def size(self):\n",
        "      current = self.head\n",
        "      count = 0\n",
        "      while current != None:\n",
        "        count = count + 1\n",
        "        current = current.getNext()\n",
        "      return count\n",
        "\n",
        "    def search(self,item):\n",
        "      current = self.head\n",
        "      found = False\n",
        "      while current != None and not found:\n",
        "        if current.getData() == item:\n",
        "            found = True\n",
        "        else:\n",
        "            current = current.getNext()\n",
        "\n",
        "      return found\n",
        "\n",
        "    def remove(self,item):\n",
        "      current = self.head\n",
        "      previous = None\n",
        "      found = False\n",
        "      while not found:\n",
        "        if current.getData() == item:\n",
        "            found = True\n",
        "        else:\n",
        "            previous = current\n",
        "            current = current.getNext()\n",
        "\n",
        "      if previous == None:\n",
        "        self.head = current.getNext()\n",
        "      else:\n",
        "        previous.setNext(current.getNext())\n",
        "\n",
        "    def printContent(self):\n",
        "      current = self.head\n",
        "      while current != None:\n",
        "        print(current.getData(),end=\" \")\n",
        "        current = current.getNext()\n",
        "      print()\n",
        "\n"
      ],
      "metadata": {
        "id": "mQooGpFfo5Vk"
      },
      "execution_count": null,
      "outputs": []
    },
    {
      "cell_type": "markdown",
      "source": [
        "Now some code to text the functionality of the class"
      ],
      "metadata": {
        "id": "s3a-lHYxpu8s"
      }
    },
    {
      "cell_type": "code",
      "source": [
        "my_list = UnorderedList()\n",
        "\n",
        "a = 10\n",
        "b = 5\n",
        "c = 20\n",
        "my_list.add(a)\n",
        "my_list.add(b)\n",
        "my_list.add(c)\n",
        "\n",
        "print(\"The current content of the list is: \")\n",
        "my_list.printContent()\n",
        "\n",
        "if my_list.isEmpty():\n",
        "  print(\"The list is empty.\")\n",
        "else:\n",
        "  print(\"The list is not empty.\")\n",
        "\n",
        "print(\"The size of the list is: \",my_list.size())\n",
        "\n",
        "if my_list.search(5):\n",
        "    print(\"5 is present in the list.\")\n",
        "else:\n",
        "    print(\"5 is not present in the list.\")\n",
        "\n",
        "if my_list.search(7):\n",
        "    print(\"7 is present in the list.\")\n",
        "else:\n",
        "    print(\"7 is not present in the list.\")\n",
        "\n",
        "my_list.remove(5)\n",
        "\n",
        "print(\"After removing 5, the size of the list is: \",my_list.size())\n",
        "\n",
        "print(\"The current content of the list is: \")\n",
        "my_list.printContent()"
      ],
      "metadata": {
        "colab": {
          "base_uri": "https://localhost:8080/"
        },
        "id": "8rd2Bpgtp43B",
        "outputId": "137708bd-97a6-492c-8c22-0f3fa9ac063d"
      },
      "execution_count": null,
      "outputs": [
        {
          "output_type": "stream",
          "name": "stdout",
          "text": [
            "The current content of the list is: \n",
            "20 5 10 \n",
            "The list is not empty.\n",
            "The size of the list is:  3\n",
            "5 is present in the list.\n",
            "7 is not present in the list.\n",
            "After removing 5, the size of the list is:  2\n",
            "The current content of the list is: \n",
            "20 10 \n"
          ]
        }
      ]
    }
  ]
}