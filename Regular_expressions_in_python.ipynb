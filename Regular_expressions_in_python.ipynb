{
  "nbformat": 4,
  "nbformat_minor": 0,
  "metadata": {
    "colab": {
      "provenance": [],
      "authorship_tag": "ABX9TyNLoMx9Yh56ayCrdM26n0hk",
      "include_colab_link": true
    },
    "kernelspec": {
      "name": "python3",
      "display_name": "Python 3"
    },
    "language_info": {
      "name": "python"
    }
  },
  "cells": [
    {
      "cell_type": "markdown",
      "metadata": {
        "id": "view-in-github",
        "colab_type": "text"
      },
      "source": [
        "<a href=\"https://colab.research.google.com/github/trefftzc/cis500/blob/main/Regular_expressions_in_python.ipynb\" target=\"_parent\"><img src=\"https://colab.research.google.com/assets/colab-badge.svg\" alt=\"Open In Colab\"/></a>"
      ]
    },
    {
      "cell_type": "code",
      "execution_count": null,
      "metadata": {
        "id": "i-FgK4LrY-t4"
      },
      "outputs": [],
      "source": []
    },
    {
      "cell_type": "markdown",
      "source": [
        "# Regular Expressions in Python\n",
        "\n",
        "Based on https://docs.python.org/3/howto/regex.html\n",
        "\n",
        "This document is an introductory tutorial to using regular expressions in Python with the re module. It provides a gentler introduction than the corresponding section in the Library Reference.\n",
        "\n"
      ],
      "metadata": {
        "id": "iC9ANE37ZBCC"
      }
    },
    {
      "cell_type": "markdown",
      "source": [
        "# Introduction\n",
        "Regular expressions (called REs, or regexes, or regex patterns) are essentially a tiny, highly specialized programming language embedded inside Python and made available through the re module. Using this little language, you specify the rules for the set of possible strings that you want to match; this set might contain English sentences, or e-mail addresses, or TeX commands, or anything you like. You can then ask questions such as “Does this string match the pattern?”, or “Is there a match for the pattern anywhere in this string?”. You can also use REs to modify a string or to split it apart in various ways.\n",
        "\n",
        "Regular expression patterns are compiled into a series of bytecodes which are then executed by a matching engine written in C. For advanced use, it may be necessary to pay careful attention to how the engine will execute a given RE, and write the RE in a certain way in order to produce bytecode that runs faster. Optimization isn’t covered in this document, because it requires that you have a good understanding of the matching engine’s internals.\n",
        "\n",
        "The regular expression language is relatively small and restricted, so not all possible string processing tasks can be done using regular expressions. There are also tasks that can be done with regular expressions, but the expressions turn out to be very complicated. In these cases, you may be better off writing Python code to do the processing; while Python code will be slower than an elaborate regular expression, it will also probably be more understandable."
      ],
      "metadata": {
        "id": "VHJCgjO-ZTuz"
      }
    },
    {
      "cell_type": "markdown",
      "source": [
        "# Simple Patterns\n",
        "We’ll start by learning about the simplest possible regular expressions. Since regular expressions are used to operate on strings, we’ll begin with the most common task: matching characters.\n",
        "\n",
        "For a detailed explanation of the computer science underlying regular expressions (deterministic and non-deterministic finite automata), you can refer to almost any textbook on writing compilers.\n",
        "\n",
        "Matching Characters\n",
        "Most letters and characters will simply match themselves. For example, the regular expression test will match the string test exactly. (You can enable a case-insensitive mode that would let this RE match Test or TEST as well; more about this later.)\n",
        "\n",
        "There are exceptions to this rule; some characters are special metacharacters, and don’t match themselves. Instead, they signal that some out of the ordinary thing should be matched, or they affect other portions of the RE by repeating them or changing their meaning. Much of this document is devoted to discussing various metacharacters and what they do.\n",
        "\n",
        "Here’s a complete list of the metacharacters; their meanings will be discussed in the rest of this HOWTO.\n",
        "\n",
        ". ^ $ * + ? { } [ ] \\ | ( )\n",
        "\n",
        "The first metacharacters we’ll look at are [ and ]. They’re used for specifying a character class, which is a set of characters that you wish to match. Characters can be listed individually, or a range of characters can be indicated by giving two characters and separating them by a '-'. For example, [abc] will match any of the characters a, b, or c; this is the same as [a-c], which uses a range to express the same set of characters. If you wanted to match only lowercase letters, your RE would be [a-z].\n",
        "\n",
        "Metacharacters (except \\) are not active inside classes. For example,\n",
        "\n",
        "[akm$]\n",
        "\n",
        "will match any of the characters 'a', 'k', 'm', or '\\$'; '\\$' is usually a metacharacter, but inside a character class it’s stripped of its special nature.\n",
        "\n",
        "You can match the characters not listed within the class by complementing the set. This is indicated by including a '^' as the first character of the class. For example, [^5] will match any character except '5'. If the caret appears elsewhere in a character class, it does not have special meaning. For example: [5^] will match either a '5' or a '^'.\n",
        "\n",
        "Perhaps the most important metacharacter is the backslash, \\. As in Python string literals, the backslash can be followed by various characters to signal various special sequences. It’s also used to escape all the metacharacters so you can still match them in patterns; for example, if you need to match a [ or \\, you can precede them with a backslash to remove their special meaning: \\[ or \\\\.\n",
        "\n",
        "Some of the special sequences beginning with '\\' represent predefined sets of characters that are often useful, such as the set of digits, the set of letters, or the set of anything that isn’t whitespace.\n",
        "\n",
        "Let’s take an example: \\w matches any alphanumeric character. If the regex pattern is expressed in bytes, this is equivalent to the class [a-zA-Z0-9_]. If the regex pattern is a string, \\w will match all the characters marked as letters in the Unicode database provided by the unicodedata module. You can use the more restricted definition of \\w in a string pattern by supplying the re.ASCII flag when compiling the regular expression.\n",
        "\n",
        "The following list of special sequences isn’t complete. For a complete list of sequences and expanded class definitions for Unicode string patterns, see the last part of Regular Expression Syntax in the Standard Library reference. In general, the Unicode versions match any character that’s in the appropriate category in the Unicode database.\n",
        "\n",
        "\\d\n",
        "Matches any decimal digit; this is equivalent to the class [0-9].\n",
        "\n",
        "\\D\n",
        "Matches any non-digit character; this is equivalent to the class [^0-9].\n",
        "\n",
        "\\s\n",
        "Matches any whitespace character; this is equivalent to the class [ \\t\\n\\r\\f\\v].\n",
        "\n",
        "\\S\n",
        "Matches any non-whitespace character; this is equivalent to the class [^ \\t\\n\\r\\f\\v].\n",
        "\n",
        "\\w\n",
        "Matches any alphanumeric character; this is equivalent to the class [a-zA-Z0-9_].\n",
        "\n",
        "\\W\n",
        "Matches any non-alphanumeric character; this is equivalent to the class [^a-zA-Z0-9_].\n",
        "\n",
        "These sequences can be included inside a character class. For example, [\\s,.] is a character class that will match any whitespace character, or ',' or '.'.\n",
        "\n",
        "The final metacharacter in this section is .. It matches anything except a newline character, and there’s an alternate mode (re.DOTALL) where it will match even a newline. . is often used where you want to match “any character”."
      ],
      "metadata": {
        "id": "uKfxfryyZYYR"
      }
    },
    {
      "cell_type": "markdown",
      "source": [
        "#Repeating Things\n",
        "\n",
        "Being able to match varying sets of characters is the first thing regular expressions can do that isn’t already possible with the methods available on strings. However, if that was the only additional capability of regexes, they wouldn’t be much of an advance. Another capability is that you can specify that portions of the RE must be repeated a certain number of times.\n",
        "\n",
        "The first metacharacter for repeating things that we’ll look at is *. * doesn’t match the literal character '*'; instead, it specifies that the previous character can be matched zero or more times, instead of exactly once.\n",
        "\n",
        "For example, ca*t will match 'ct' (0 'a' characters), 'cat' (1 'a'), 'caaat' (3 'a' characters), and so forth.\n",
        "\n",
        "Repetitions such as * are greedy; when repeating a RE, the matching engine will try to repeat it as many times as possible. If later portions of the pattern don’t match, the matching engine will then back up and try again with fewer repetitions.\n",
        "\n",
        "A step-by-step example will make this more obvious. Let’s consider the expression a[bcd]*b. This matches the letter 'a', zero or more letters from the class [bcd], and finally ends with a 'b'. Now imagine matching this RE against the string 'abcbd'.\n",
        "\n",
        "| Step     | Matched  | Explanation |\n",
        "|----------|----------|-------------|\n",
        "| 1        | a        | The a in the RE matches.      |\n",
        "| 2        | abcbd    | The engine matches [bcd]*, going as far as it can, which is to the end of the string.      |\n",
        "| 3        | Failure  | The engine tries to match b, but the current position is at the end of the string, so it fails.     |\n",
        "| 4        | abcb     | Back up, so that [bcd]* matches one less character.      |\n",
        "| 5        | Failure  | Try b again, but the current position is at the last character, which is a 'd'.      |\n",
        "| 6        | abc      | Back up again, so that [bcd]* is only matching bc.      |\n",
        "| 7        | abcb     | Try b again. This time the character at the current position is 'b', so it succeeds.      |\n",
        "\n",
        "The end of the RE has now been reached, and it has matched 'abcb'. This demonstrates how the matching engine goes as far as it can at first, and if no match is found it will then progressively back up and retry the rest of the RE again and again. It will back up until it has tried zero matches for [bcd]*, and if that subsequently fails, the engine will conclude that the string doesn’t match the RE at all.\n",
        "\n",
        "Another repeating metacharacter is +, which matches one or more times. Pay careful attention to the difference between * and +; * matches zero or more times, so whatever’s being repeated may not be present at all, while + requires at least one occurrence. To use a similar example, ca+t will match 'cat' (1 'a'), 'caaat' (3 'a's), but won’t match 'ct'.\n",
        "\n",
        "There are two more repeating operators or quantifiers. The question mark character, ?, matches either once or zero times; you can think of it as marking something as being optional. For example, home-?brew matches either 'homebrew' or 'home-brew'.\n",
        "\n",
        "The most complicated quantifier is {m,n}, where m and n are decimal integers. This quantifier means there must be at least m repetitions, and at most n. For example, a/{1,3}b will match 'a/b', 'a//b', and 'a///b'. It won’t match 'ab', which has no slashes, or 'a////b', which has four.\n",
        "\n",
        "You can omit either m or n; in that case, a reasonable value is assumed for the missing value. Omitting m is interpreted as a lower limit of 0, while omitting n results in an upper bound of infinity.\n",
        "\n",
        "The simplest case {m} matches the preceding item exactly m times. For example, a/{2}b will only match 'a//b'.\n",
        "\n",
        "Readers of a reductionist bent may notice that the three other quantifiers can all be expressed using this notation. {0,} is the same as *, {1,} is equivalent to +, and {0,1} is the same as ?. It’s better to use *, +, or ? when you can, simply because they’re shorter and easier to read.\n",
        "\n"
      ],
      "metadata": {
        "id": "qAnQR_00aKXb"
      }
    },
    {
      "cell_type": "markdown",
      "source": [
        "# Using Regular Expressions\n",
        "\n",
        "Now that we’ve looked at some simple regular expressions, how do we actually use them in Python? The re module provides an interface to the regular expression engine, allowing you to compile REs into objects and then perform matches with them.\n",
        "\n",
        "# Compiling Regular Expressions\n",
        "\n",
        "Regular expressions are compiled into pattern objects, which have methods for various operations such as searching for pattern matches or performing string substitutions.\n",
        "\n"
      ],
      "metadata": {
        "id": "1k4MgdmUzbs0"
      }
    },
    {
      "cell_type": "code",
      "source": [
        "import re\n",
        "p = re.compile('ab*')\n",
        "p"
      ],
      "metadata": {
        "colab": {
          "base_uri": "https://localhost:8080/"
        },
        "id": "u0VqbUxIzm08",
        "outputId": "5ef5e4fe-3217-4c7c-c820-fc32eeef7e36"
      },
      "execution_count": 1,
      "outputs": [
        {
          "output_type": "execute_result",
          "data": {
            "text/plain": [
              "re.compile(r'ab*', re.UNICODE)"
            ]
          },
          "metadata": {},
          "execution_count": 1
        }
      ]
    },
    {
      "cell_type": "markdown",
      "source": [
        "re.compile() also accepts an optional flags argument, used to enable various special features and syntax variations. We’ll go over the available settings later, but for now a single example will do:"
      ],
      "metadata": {
        "id": "Tw0N5eeHzswS"
      }
    },
    {
      "cell_type": "code",
      "source": [
        "p = re.compile('ab*', re.IGNORECASE)"
      ],
      "metadata": {
        "id": "tBXGfUNdzuuL"
      },
      "execution_count": 2,
      "outputs": []
    },
    {
      "cell_type": "markdown",
      "source": [
        "The RE is passed to re.compile() as a string. REs are handled as strings because regular expressions aren’t part of the core Python language, and no special syntax was created for expressing them. (There are applications that don’t need REs at all, so there’s no need to bloat the language specification by including them.) Instead, the re module is simply a C extension module included with Python, just like the socket or zlib modules.\n",
        "\n",
        "Putting REs in strings keeps the Python language simpler, but has one disadvantage which is the topic of the next section.\n",
        "\n",
        "# The Backslash Plague\n",
        "\n",
        "As stated earlier, regular expressions use the backslash character ('\\') to indicate special forms or to allow special characters to be used without invoking their special meaning. This conflicts with Python’s usage of the same character for the same purpose in string literals.\n",
        "\n",
        "Let’s say you want to write a RE that matches the string \\section, which might be found in a LaTeX file. To figure out what to write in the program code, start with the desired string to be matched. Next, you must escape any backslashes and other metacharacters by preceding them with a backslash, resulting in the string \\\\section. The resulting string that must be passed to re.compile() must be \\\\section. However, to express this as a Python string literal, both backslashes must be escaped again.\n",
        "\n",
        "| Characters | Stage |\n",
        "|------------|-------|\n",
        "| \\section   | Text string to be matched |\n",
        "| \\\\\\section  | Escaped backslash for re.compile() |\n",
        "| \"\\\\\\\\\\section\" | Escaped backslashes for a string literal |\n",
        "\n",
        "n short, to match a literal backslash, one has to write '\\\\\\\\' as the RE string, because the regular expression must be \\\\, and each backslash must be expressed as \\\\ inside a regular Python string literal. In REs that feature backslashes repeatedly, this leads to lots of repeated backslashes and makes the resulting strings difficult to understand.\n",
        "\n",
        "The solution is to use Python’s raw string notation for regular expressions; backslashes are not handled in any special way in a string literal prefixed with 'r', so r\"\\n\" is a two-character string containing '\\' and 'n', while \"\\n\" is a one-character string containing a newline. Regular expressions will often be written in Python code using this raw string notation.\n",
        "\n",
        "In addition, special escape sequences that are valid in regular expressions, but not valid as Python string literals, now result in a DeprecationWarning and will eventually become a SyntaxError, which means the sequences will be invalid if raw string notation or escaping the backslashes isn’t used.\n",
        "\n",
        "| Regular String | Raw String |\n",
        "|----------------|------------|\n",
        "| \"ab*\"          |\tr\"ab*\"    |\n",
        "| \"\\\\\\\\\\\\\\\\section\"  | r\"\\\\section\" |\n",
        "|  \"\\\\\\\\w+\\\\\\\\s+\\\\\\\\1\" | r\"\\w+\\s+\\1\" |\n",
        "\n",
        "\n"
      ],
      "metadata": {
        "id": "4i5C78U9z1aa"
      }
    },
    {
      "cell_type": "markdown",
      "source": [
        "# Performing Matches\n",
        "Once you have an object representing a compiled regular expression, what do you do with it? Pattern objects have several methods and attributes. Only the most significant ones will be covered here; consult the re docs for a complete listing.\n",
        "\n",
        "| Method/Attribute | Purpose |\n",
        "|------------------|---------|\n",
        "| match()          | Determine if the RE matches at the beginning of the string.|\n",
        "| search()         | Scan through a string, looking for any location where this RE matches. |\n",
        "| findall() | Find all substrings where the RE matches, and returns them as a list.|\n",
        "| finditer() | Find all substrings where the RE matches, and returns them as an iterator. |\n",
        "\n",
        "match() and search() return None if no match can be found. If they’re successful, a match object instance is returned, containing information about the match: where it starts and ends, the substring it matched, and more.\n",
        "\n",
        "You can learn about this by interactively experimenting with the re module.\n",
        "\n",
        "This HOWTO uses the standard Python interpreter for its examples. First, run the Python interpreter, import the re module, and compile a RE:\n",
        "\n"
      ],
      "metadata": {
        "id": "9ri2hu3q1XZ7"
      }
    },
    {
      "cell_type": "code",
      "source": [
        "import re\n",
        "p = re.compile('[a-z]+')\n",
        "p"
      ],
      "metadata": {
        "colab": {
          "base_uri": "https://localhost:8080/"
        },
        "id": "vF50cGVO2Bjc",
        "outputId": "3dd43b82-eba9-4902-ba33-0db606f2b226"
      },
      "execution_count": 3,
      "outputs": [
        {
          "output_type": "execute_result",
          "data": {
            "text/plain": [
              "re.compile(r'[a-z]+', re.UNICODE)"
            ]
          },
          "metadata": {},
          "execution_count": 3
        }
      ]
    },
    {
      "cell_type": "markdown",
      "source": [
        "Now, you can try matching various strings against the RE [a-z]+. An empty string shouldn’t match at all, since + means ‘one or more repetitions’. match() should return None in this case, which will cause the interpreter to print no output. You can explicitly print the result of match() to make this clear."
      ],
      "metadata": {
        "id": "_S0pjGCh2GnJ"
      }
    },
    {
      "cell_type": "code",
      "source": [
        "p.match(\"\")\n",
        "print(p.match(\"\"))"
      ],
      "metadata": {
        "colab": {
          "base_uri": "https://localhost:8080/"
        },
        "id": "knvAlUvX2Hdq",
        "outputId": "f155c85c-d040-40ef-cc5b-adb02bb45d5a"
      },
      "execution_count": 4,
      "outputs": [
        {
          "output_type": "stream",
          "name": "stdout",
          "text": [
            "None\n"
          ]
        }
      ]
    },
    {
      "cell_type": "markdown",
      "source": [
        "Now, let’s try it on a string that it should match, such as tempo. In this case, match() will return a match object, so you should store the result in a variable for later use."
      ],
      "metadata": {
        "id": "Nj2uivWD2OjL"
      }
    },
    {
      "cell_type": "code",
      "source": [
        "m = p.match('tempo')\n",
        "m"
      ],
      "metadata": {
        "colab": {
          "base_uri": "https://localhost:8080/"
        },
        "id": "co-QUEY92N1z",
        "outputId": "65cf7144-8fed-4843-df13-c487d477e702"
      },
      "execution_count": 5,
      "outputs": [
        {
          "output_type": "execute_result",
          "data": {
            "text/plain": [
              "<re.Match object; span=(0, 5), match='tempo'>"
            ]
          },
          "metadata": {},
          "execution_count": 5
        }
      ]
    },
    {
      "cell_type": "markdown",
      "source": [
        "Now you can query the match object for information about the matching string. Match object instances also have several methods and attributes; the most important ones are:\n",
        "\n",
        "| Method/Attribute | Purpose |\n",
        "|------------------|---------|\n",
        "|group()           |Return the string matched by the RE |\n",
        "|start()           | Return the starting position of the match |\n",
        "|end()             | Return the ending position of the match |\n",
        "|span()           | Return a tuple containing the (start, end) positions of the match |\n",
        "\n",
        "Trying these methods will soon clarify their meaning:"
      ],
      "metadata": {
        "id": "F3tMB99O2Y2j"
      }
    },
    {
      "cell_type": "code",
      "source": [
        "m.group()\n",
        "\n",
        "\n",
        "\n"
      ],
      "metadata": {
        "colab": {
          "base_uri": "https://localhost:8080/",
          "height": 36
        },
        "id": "TBRYEopE2Yk6",
        "outputId": "102b7557-22e0-4e1b-fa49-67fa2f2dfb1e"
      },
      "execution_count": 7,
      "outputs": [
        {
          "output_type": "execute_result",
          "data": {
            "text/plain": [
              "'tempo'"
            ],
            "application/vnd.google.colaboratory.intrinsic+json": {
              "type": "string"
            }
          },
          "metadata": {},
          "execution_count": 7
        }
      ]
    },
    {
      "cell_type": "code",
      "source": [
        "m.start(), m.end()"
      ],
      "metadata": {
        "colab": {
          "base_uri": "https://localhost:8080/"
        },
        "id": "dWZ5fYwT2xEq",
        "outputId": "0f4d7589-b6ae-4a93-abae-bc7084a71385"
      },
      "execution_count": 8,
      "outputs": [
        {
          "output_type": "execute_result",
          "data": {
            "text/plain": [
              "(0, 5)"
            ]
          },
          "metadata": {},
          "execution_count": 8
        }
      ]
    },
    {
      "cell_type": "code",
      "source": [
        "m.span()"
      ],
      "metadata": {
        "colab": {
          "base_uri": "https://localhost:8080/"
        },
        "id": "nxdgFZh_2yt6",
        "outputId": "fec73620-2cee-48b9-811f-b20640f73623"
      },
      "execution_count": 9,
      "outputs": [
        {
          "output_type": "execute_result",
          "data": {
            "text/plain": [
              "(0, 5)"
            ]
          },
          "metadata": {},
          "execution_count": 9
        }
      ]
    },
    {
      "cell_type": "markdown",
      "source": [
        "group() returns the substring that was matched by the RE. start() and end() return the starting and ending index of the match. span() returns both start and end indexes in a single tuple. Since the match() method only checks if the RE matches at the start of a string, start() will always be zero. However, the search() method of patterns scans through the string, so the match may not start at zero in that case."
      ],
      "metadata": {
        "id": "9PZiRGze251q"
      }
    },
    {
      "cell_type": "code",
      "source": [
        "print(p.match('::: message'))"
      ],
      "metadata": {
        "colab": {
          "base_uri": "https://localhost:8080/"
        },
        "id": "lJefLjaG29yS",
        "outputId": "109e2cc5-e7d5-45d4-a68a-31df21a54a7a"
      },
      "execution_count": 10,
      "outputs": [
        {
          "output_type": "stream",
          "name": "stdout",
          "text": [
            "None\n"
          ]
        }
      ]
    },
    {
      "cell_type": "code",
      "source": [],
      "metadata": {
        "id": "rMJW9VFw3Abx"
      },
      "execution_count": null,
      "outputs": []
    },
    {
      "cell_type": "code",
      "source": [
        "m = p.search('::: message'); print(m)"
      ],
      "metadata": {
        "colab": {
          "base_uri": "https://localhost:8080/"
        },
        "id": "vKQfstC83CD7",
        "outputId": "d7489710-6b70-44c3-cd9d-d4a2c78882c1"
      },
      "execution_count": 11,
      "outputs": [
        {
          "output_type": "stream",
          "name": "stdout",
          "text": [
            "<re.Match object; span=(4, 11), match='message'>\n"
          ]
        }
      ]
    },
    {
      "cell_type": "code",
      "source": [
        "m.group()"
      ],
      "metadata": {
        "colab": {
          "base_uri": "https://localhost:8080/",
          "height": 36
        },
        "id": "eKjoobQj3DRr",
        "outputId": "5b0d5293-eea0-4e84-c5e6-512a30182a87"
      },
      "execution_count": 12,
      "outputs": [
        {
          "output_type": "execute_result",
          "data": {
            "text/plain": [
              "'message'"
            ],
            "application/vnd.google.colaboratory.intrinsic+json": {
              "type": "string"
            }
          },
          "metadata": {},
          "execution_count": 12
        }
      ]
    },
    {
      "cell_type": "code",
      "source": [
        "m.span()"
      ],
      "metadata": {
        "colab": {
          "base_uri": "https://localhost:8080/"
        },
        "id": "Q-Lb5mO93HwS",
        "outputId": "42a3e690-c422-403d-892d-89c7eed628c5"
      },
      "execution_count": 13,
      "outputs": [
        {
          "output_type": "execute_result",
          "data": {
            "text/plain": [
              "(4, 11)"
            ]
          },
          "metadata": {},
          "execution_count": 13
        }
      ]
    },
    {
      "cell_type": "markdown",
      "source": [
        "In actual programs, the most common style is to store the match object in a variable, and then check if it was None. This usually looks like:\n",
        "\n",
        "p = re.compile( ... )\n",
        "\n",
        "m = p.match( 'string goes here' )\n",
        "\n",
        "if m:\n",
        "\n",
        "    print('Match found: ', m.group())\n",
        "\n",
        "else:\n",
        "\n",
        "    print('No match')"
      ],
      "metadata": {
        "id": "EYGV91hu3M0B"
      }
    },
    {
      "cell_type": "markdown",
      "source": [
        "Two pattern methods return all of the matches for a pattern. findall() returns a list of matching strings:"
      ],
      "metadata": {
        "id": "MNR-WoCx3eCC"
      }
    },
    {
      "cell_type": "code",
      "source": [
        "p = re.compile(r'\\d+')\n",
        "p.findall('12 drummers drumming, 11 pipers piping, 10 lords a-leaping')"
      ],
      "metadata": {
        "colab": {
          "base_uri": "https://localhost:8080/"
        },
        "id": "YBygHW2A3hAB",
        "outputId": "6af99433-97cb-4535-e22e-57a00f5c8a34"
      },
      "execution_count": 14,
      "outputs": [
        {
          "output_type": "execute_result",
          "data": {
            "text/plain": [
              "['12', '11', '10']"
            ]
          },
          "metadata": {},
          "execution_count": 14
        }
      ]
    },
    {
      "cell_type": "markdown",
      "source": [
        "The r prefix, making the literal a raw string literal, is needed in this example because escape sequences in a normal “cooked” string literal that are not recognized by Python, as opposed to regular expressions, now result in a DeprecationWarning and will eventually become a SyntaxError. See The Backslash Plague.\n",
        "\n",
        "findall() has to create the entire list before it can be returned as the result. The finditer() method returns a sequence of match object instances as an iterator:"
      ],
      "metadata": {
        "id": "AS64TV_A3mLS"
      }
    },
    {
      "cell_type": "code",
      "source": [
        "iterator = p.finditer('12 drummers drumming, 11 ... 10 ...')\n",
        "iterator\n",
        "\n",
        "for match in iterator:\n",
        "    print(match.span())"
      ],
      "metadata": {
        "colab": {
          "base_uri": "https://localhost:8080/"
        },
        "id": "CibgUcXH3paT",
        "outputId": "0a5dd813-60a2-4f2a-9ed2-44c677a5ffb0"
      },
      "execution_count": 15,
      "outputs": [
        {
          "output_type": "stream",
          "name": "stdout",
          "text": [
            "(0, 2)\n",
            "(22, 24)\n",
            "(29, 31)\n"
          ]
        }
      ]
    }
  ]
}