{
  "nbformat": 4,
  "nbformat_minor": 0,
  "metadata": {
    "colab": {
      "provenance": [],
      "authorship_tag": "ABX9TyMI+B47qQM7FN7NhDNwWxhb",
      "include_colab_link": true
    },
    "kernelspec": {
      "name": "python3",
      "display_name": "Python 3"
    },
    "language_info": {
      "name": "python"
    }
  },
  "cells": [
    {
      "cell_type": "markdown",
      "metadata": {
        "id": "view-in-github",
        "colab_type": "text"
      },
      "source": [
        "<a href=\"https://colab.research.google.com/github/trefftzc/cis500/blob/main/Regular_expressions_in_python.ipynb\" target=\"_parent\"><img src=\"https://colab.research.google.com/assets/colab-badge.svg\" alt=\"Open In Colab\"/></a>"
      ]
    },
    {
      "cell_type": "markdown",
      "source": [
        "# Regular Expressions in Python\n",
        "\n",
        "Based on https://docs.python.org/3/howto/regex.html\n",
        "\n",
        "This document is an introductory tutorial to using regular expressions in Python with the re module. It provides a gentler introduction than the corresponding section in the Library Reference.\n",
        "\n"
      ],
      "metadata": {
        "id": "iC9ANE37ZBCC"
      }
    },
    {
      "cell_type": "markdown",
      "source": [
        "# Introduction\n",
        "Regular expressions (called REs, or regexes, or regex patterns) are essentially a tiny, highly specialized programming language embedded inside Python and made available through the re module. Using this little language, you specify the rules for the set of possible strings that you want to match; this set might contain English sentences, or e-mail addresses, or TeX commands, or anything you like. You can then ask questions such as “Does this string match the pattern?”, or “Is there a match for the pattern anywhere in this string?”. You can also use REs to modify a string or to split it apart in various ways.\n",
        "\n",
        "Regular expression patterns are compiled into a series of bytecodes which are then executed by a matching engine written in C. For advanced use, it may be necessary to pay careful attention to how the engine will execute a given RE, and write the RE in a certain way in order to produce bytecode that runs faster. Optimization isn’t covered in this document, because it requires that you have a good understanding of the matching engine’s internals.\n",
        "\n",
        "The regular expression language is relatively small and restricted, so not all possible string processing tasks can be done using regular expressions. There are also tasks that can be done with regular expressions, but the expressions turn out to be very complicated. In these cases, you may be better off writing Python code to do the processing; while Python code will be slower than an elaborate regular expression, it will also probably be more understandable."
      ],
      "metadata": {
        "id": "VHJCgjO-ZTuz"
      }
    },
    {
      "cell_type": "markdown",
      "source": [
        "# Simple Patterns\n",
        "We’ll start by learning about the simplest possible regular expressions. Since regular expressions are used to operate on strings, we’ll begin with the most common task: matching characters.\n",
        "\n",
        "For a detailed explanation of the computer science underlying regular expressions (deterministic and non-deterministic finite automata), you can refer to almost any textbook on writing compilers.\n",
        "\n",
        "Matching Characters\n",
        "Most letters and characters will simply match themselves. For example, the regular expression test will match the string test exactly. (You can enable a case-insensitive mode that would let this RE match Test or TEST as well; more about this later.)\n",
        "\n",
        "There are exceptions to this rule; some characters are special metacharacters, and don’t match themselves. Instead, they signal that some out of the ordinary thing should be matched, or they affect other portions of the RE by repeating them or changing their meaning. Much of this document is devoted to discussing various metacharacters and what they do.\n",
        "\n",
        "Here’s a complete list of the metacharacters; their meanings will be discussed in the rest of this HOWTO.\n",
        "\n",
        ". ^ $ * + ? { } [ ] \\ | ( )\n",
        "\n",
        "The first metacharacters we’ll look at are [ and ]. They’re used for specifying a character class, which is a set of characters that you wish to match. Characters can be listed individually, or a range of characters can be indicated by giving two characters and separating them by a '-'. For example, [abc] will match any of the characters a, b, or c; this is the same as [a-c], which uses a range to express the same set of characters. If you wanted to match only lowercase letters, your RE would be [a-z].\n",
        "\n",
        "Metacharacters (except \\) are not active inside classes. For example,\n",
        "\n",
        "[akm$]\n",
        "\n",
        "will match any of the characters 'a', 'k', 'm', or '\\$'; '\\$' is usually a metacharacter, but inside a character class it’s stripped of its special nature.\n",
        "\n",
        "You can match the characters not listed within the class by complementing the set. This is indicated by including a '^' as the first character of the class. For example, [^5] will match any character except '5'. If the caret appears elsewhere in a character class, it does not have special meaning. For example: [5^] will match either a '5' or a '^'.\n",
        "\n",
        "Perhaps the most important metacharacter is the backslash, \\. As in Python string literals, the backslash can be followed by various characters to signal various special sequences. It’s also used to escape all the metacharacters so you can still match them in patterns; for example, if you need to match a [ or \\, you can precede them with a backslash to remove their special meaning: \\[ or \\\\.\n",
        "\n",
        "Some of the special sequences beginning with '\\' represent predefined sets of characters that are often useful, such as the set of digits, the set of letters, or the set of anything that isn’t whitespace.\n",
        "\n",
        "Let’s take an example: \\w matches any alphanumeric character. If the regex pattern is expressed in bytes, this is equivalent to the class [a-zA-Z0-9_]. If the regex pattern is a string, \\w will match all the characters marked as letters in the Unicode database provided by the unicodedata module. You can use the more restricted definition of \\w in a string pattern by supplying the re.ASCII flag when compiling the regular expression.\n",
        "\n",
        "The following list of special sequences isn’t complete. For a complete list of sequences and expanded class definitions for Unicode string patterns, see the last part of Regular Expression Syntax in the Standard Library reference. In general, the Unicode versions match any character that’s in the appropriate category in the Unicode database.\n",
        "\n",
        "\\d\n",
        "Matches any decimal digit; this is equivalent to the class [0-9].\n",
        "\n",
        "\\D\n",
        "Matches any non-digit character; this is equivalent to the class [^0-9].\n",
        "\n",
        "\\s\n",
        "Matches any whitespace character; this is equivalent to the class [ \\t\\n\\r\\f\\v].\n",
        "\n",
        "\\S\n",
        "Matches any non-whitespace character; this is equivalent to the class [^ \\t\\n\\r\\f\\v].\n",
        "\n",
        "\\w\n",
        "Matches any alphanumeric character; this is equivalent to the class [a-zA-Z0-9_].\n",
        "\n",
        "\\W\n",
        "Matches any non-alphanumeric character; this is equivalent to the class [^a-zA-Z0-9_].\n",
        "\n",
        "These sequences can be included inside a character class. For example, [\\s,.] is a character class that will match any whitespace character, or ',' or '.'.\n",
        "\n",
        "The final metacharacter in this section is .. It matches anything except a newline character, and there’s an alternate mode (re.DOTALL) where it will match even a newline. . is often used where you want to match “any character”."
      ],
      "metadata": {
        "id": "uKfxfryyZYYR"
      }
    },
    {
      "cell_type": "markdown",
      "source": [
        "#Repeating Things\n",
        "\n",
        "Being able to match varying sets of characters is the first thing regular expressions can do that isn’t already possible with the methods available on strings. However, if that was the only additional capability of regexes, they wouldn’t be much of an advance. Another capability is that you can specify that portions of the RE must be repeated a certain number of times.\n",
        "\n",
        "The first metacharacter for repeating things that we’ll look at is *. * doesn’t match the literal character '*'; instead, it specifies that the previous character can be matched zero or more times, instead of exactly once.\n",
        "\n",
        "For example, ca*t will match 'ct' (0 'a' characters), 'cat' (1 'a'), 'caaat' (3 'a' characters), and so forth.\n",
        "\n",
        "Repetitions such as * are greedy; when repeating a RE, the matching engine will try to repeat it as many times as possible. If later portions of the pattern don’t match, the matching engine will then back up and try again with fewer repetitions.\n",
        "\n",
        "A step-by-step example will make this more obvious. Let’s consider the expression a[bcd]*b. This matches the letter 'a', zero or more letters from the class [bcd], and finally ends with a 'b'. Now imagine matching this RE against the string 'abcbd'.\n",
        "\n",
        "| Step     | Matched  | Explanation |\n",
        "|----------|----------|-------------|\n",
        "| 1        | a        | The a in the RE matches.      |\n",
        "| 2        | abcbd    | The engine matches [bcd]*, going as far as it can, which is to the end of the string.      |\n",
        "| 3        | Failure  | The engine tries to match b, but the current position is at the end of the string, so it fails.     |\n",
        "| 4        | abcb     | Back up, so that [bcd]* matches one less character.      |\n",
        "| 5        | Failure  | Try b again, but the current position is at the last character, which is a 'd'.      |\n",
        "| 6        | abc      | Back up again, so that [bcd]* is only matching bc.      |\n",
        "| 7        | abcb     | Try b again. This time the character at the current position is 'b', so it succeeds.      |\n",
        "\n",
        "The end of the RE has now been reached, and it has matched 'abcb'. This demonstrates how the matching engine goes as far as it can at first, and if no match is found it will then progressively back up and retry the rest of the RE again and again. It will back up until it has tried zero matches for [bcd]*, and if that subsequently fails, the engine will conclude that the string doesn’t match the RE at all.\n",
        "\n",
        "Another repeating metacharacter is +, which matches one or more times. Pay careful attention to the difference between * and +; * matches zero or more times, so whatever’s being repeated may not be present at all, while + requires at least one occurrence. To use a similar example, ca+t will match 'cat' (1 'a'), 'caaat' (3 'a's), but won’t match 'ct'.\n",
        "\n",
        "There are two more repeating operators or quantifiers. The question mark character, ?, matches either once or zero times; you can think of it as marking something as being optional. For example, home-?brew matches either 'homebrew' or 'home-brew'.\n",
        "\n",
        "The most complicated quantifier is {m,n}, where m and n are decimal integers. This quantifier means there must be at least m repetitions, and at most n. For example, a/{1,3}b will match 'a/b', 'a//b', and 'a///b'. It won’t match 'ab', which has no slashes, or 'a////b', which has four.\n",
        "\n",
        "You can omit either m or n; in that case, a reasonable value is assumed for the missing value. Omitting m is interpreted as a lower limit of 0, while omitting n results in an upper bound of infinity.\n",
        "\n",
        "The simplest case {m} matches the preceding item exactly m times. For example, a/{2}b will only match 'a//b'.\n",
        "\n",
        "Readers of a reductionist bent may notice that the three other quantifiers can all be expressed using this notation. {0,} is the same as *, {1,} is equivalent to +, and {0,1} is the same as ?. It’s better to use *, +, or ? when you can, simply because they’re shorter and easier to read.\n",
        "\n"
      ],
      "metadata": {
        "id": "qAnQR_00aKXb"
      }
    },
    {
      "cell_type": "markdown",
      "source": [
        "# Using Regular Expressions\n",
        "\n",
        "Now that we’ve looked at some simple regular expressions, how do we actually use them in Python? The re module provides an interface to the regular expression engine, allowing you to compile REs into objects and then perform matches with them.\n",
        "\n",
        "# Compiling Regular Expressions\n",
        "\n",
        "Regular expressions are compiled into pattern objects, which have methods for various operations such as searching for pattern matches or performing string substitutions.\n",
        "\n"
      ],
      "metadata": {
        "id": "1k4MgdmUzbs0"
      }
    },
    {
      "cell_type": "code",
      "source": [
        "import re\n",
        "p = re.compile('ab*')\n",
        "p"
      ],
      "metadata": {
        "colab": {
          "base_uri": "https://localhost:8080/"
        },
        "id": "u0VqbUxIzm08",
        "outputId": "ea4fd80d-98bd-4c27-ea63-4d8275fc6836"
      },
      "execution_count": 60,
      "outputs": [
        {
          "output_type": "execute_result",
          "data": {
            "text/plain": [
              "re.compile(r'ab*', re.UNICODE)"
            ]
          },
          "metadata": {},
          "execution_count": 60
        }
      ]
    },
    {
      "cell_type": "markdown",
      "source": [
        "re.compile() also accepts an optional flags argument, used to enable various special features and syntax variations. We’ll go over the available settings later, but for now a single example will do:"
      ],
      "metadata": {
        "id": "Tw0N5eeHzswS"
      }
    },
    {
      "cell_type": "code",
      "source": [
        "p = re.compile('ab*', re.IGNORECASE)"
      ],
      "metadata": {
        "id": "tBXGfUNdzuuL"
      },
      "execution_count": 61,
      "outputs": []
    },
    {
      "cell_type": "markdown",
      "source": [
        "The RE is passed to re.compile() as a string. REs are handled as strings because regular expressions aren’t part of the core Python language, and no special syntax was created for expressing them. (There are applications that don’t need REs at all, so there’s no need to bloat the language specification by including them.) Instead, the re module is simply a C extension module included with Python, just like the socket or zlib modules.\n",
        "\n",
        "Putting REs in strings keeps the Python language simpler, but has one disadvantage which is the topic of the next section.\n",
        "\n",
        "# The Backslash Plague\n",
        "\n",
        "As stated earlier, regular expressions use the backslash character ('\\') to indicate special forms or to allow special characters to be used without invoking their special meaning. This conflicts with Python’s usage of the same character for the same purpose in string literals.\n",
        "\n",
        "Let’s say you want to write a RE that matches the string \\section, which might be found in a LaTeX file. To figure out what to write in the program code, start with the desired string to be matched. Next, you must escape any backslashes and other metacharacters by preceding them with a backslash, resulting in the string \\\\section. The resulting string that must be passed to re.compile() must be \\\\section. However, to express this as a Python string literal, both backslashes must be escaped again.\n",
        "\n",
        "| Characters | Stage |\n",
        "|------------|-------|\n",
        "| \\section   | Text string to be matched |\n",
        "| \\\\\\section  | Escaped backslash for re.compile() |\n",
        "| \"\\\\\\\\\\section\" | Escaped backslashes for a string literal |\n",
        "\n",
        "n short, to match a literal backslash, one has to write '\\\\\\\\' as the RE string, because the regular expression must be \\\\, and each backslash must be expressed as \\\\ inside a regular Python string literal. In REs that feature backslashes repeatedly, this leads to lots of repeated backslashes and makes the resulting strings difficult to understand.\n",
        "\n",
        "The solution is to use Python’s raw string notation for regular expressions; backslashes are not handled in any special way in a string literal prefixed with 'r', so r\"\\n\" is a two-character string containing '\\' and 'n', while \"\\n\" is a one-character string containing a newline. Regular expressions will often be written in Python code using this raw string notation.\n",
        "\n",
        "In addition, special escape sequences that are valid in regular expressions, but not valid as Python string literals, now result in a DeprecationWarning and will eventually become a SyntaxError, which means the sequences will be invalid if raw string notation or escaping the backslashes isn’t used.\n",
        "\n",
        "| Regular String | Raw String |\n",
        "|----------------|------------|\n",
        "| \"ab*\"          |\tr\"ab*\"    |\n",
        "| \"\\\\\\\\\\\\\\\\section\"  | r\"\\\\section\" |\n",
        "|  \"\\\\\\\\w+\\\\\\\\s+\\\\\\\\1\" | r\"\\w+\\s+\\1\" |\n",
        "\n",
        "\n"
      ],
      "metadata": {
        "id": "4i5C78U9z1aa"
      }
    },
    {
      "cell_type": "markdown",
      "source": [
        "# Performing Matches\n",
        "Once you have an object representing a compiled regular expression, what do you do with it? Pattern objects have several methods and attributes. Only the most significant ones will be covered here; consult the re docs for a complete listing.\n",
        "\n",
        "| Method/Attribute | Purpose |\n",
        "|------------------|---------|\n",
        "| match()          | Determine if the RE matches at the beginning of the string.|\n",
        "| search()         | Scan through a string, looking for any location where this RE matches. |\n",
        "| findall() | Find all substrings where the RE matches, and returns them as a list.|\n",
        "| finditer() | Find all substrings where the RE matches, and returns them as an iterator. |\n",
        "\n",
        "match() and search() return None if no match can be found. If they’re successful, a match object instance is returned, containing information about the match: where it starts and ends, the substring it matched, and more.\n",
        "\n",
        "You can learn about this by interactively experimenting with the re module.\n",
        "\n",
        "This HOWTO uses the standard Python interpreter for its examples. First, run the Python interpreter, import the re module, and compile a RE:\n",
        "\n"
      ],
      "metadata": {
        "id": "9ri2hu3q1XZ7"
      }
    },
    {
      "cell_type": "code",
      "source": [
        "import re\n",
        "p = re.compile('[a-z]+')\n",
        "p"
      ],
      "metadata": {
        "colab": {
          "base_uri": "https://localhost:8080/"
        },
        "id": "vF50cGVO2Bjc",
        "outputId": "e65c7f64-0b5a-494f-a529-f4621ee057cd"
      },
      "execution_count": 62,
      "outputs": [
        {
          "output_type": "execute_result",
          "data": {
            "text/plain": [
              "re.compile(r'[a-z]+', re.UNICODE)"
            ]
          },
          "metadata": {},
          "execution_count": 62
        }
      ]
    },
    {
      "cell_type": "markdown",
      "source": [
        "Now, you can try matching various strings against the RE [a-z]+. An empty string shouldn’t match at all, since + means ‘one or more repetitions’. match() should return None in this case, which will cause the interpreter to print no output. You can explicitly print the result of match() to make this clear."
      ],
      "metadata": {
        "id": "_S0pjGCh2GnJ"
      }
    },
    {
      "cell_type": "code",
      "source": [
        "p.match(\"\")\n",
        "print(p.match(\"\"))"
      ],
      "metadata": {
        "colab": {
          "base_uri": "https://localhost:8080/"
        },
        "id": "knvAlUvX2Hdq",
        "outputId": "bcfe79f4-907f-4288-d1c1-d77bfbc5265d"
      },
      "execution_count": 63,
      "outputs": [
        {
          "output_type": "stream",
          "name": "stdout",
          "text": [
            "None\n"
          ]
        }
      ]
    },
    {
      "cell_type": "markdown",
      "source": [
        "Now, let’s try it on a string that it should match, such as tempo. In this case, match() will return a match object, so you should store the result in a variable for later use."
      ],
      "metadata": {
        "id": "Nj2uivWD2OjL"
      }
    },
    {
      "cell_type": "code",
      "source": [
        "m = p.match('tempo')\n",
        "m"
      ],
      "metadata": {
        "colab": {
          "base_uri": "https://localhost:8080/"
        },
        "id": "co-QUEY92N1z",
        "outputId": "4a5667ec-b1b3-4d41-dd87-6b7392521895"
      },
      "execution_count": 64,
      "outputs": [
        {
          "output_type": "execute_result",
          "data": {
            "text/plain": [
              "<re.Match object; span=(0, 5), match='tempo'>"
            ]
          },
          "metadata": {},
          "execution_count": 64
        }
      ]
    },
    {
      "cell_type": "markdown",
      "source": [
        "Now you can query the match object for information about the matching string. Match object instances also have several methods and attributes; the most important ones are:\n",
        "\n",
        "| Method/Attribute | Purpose |\n",
        "|------------------|---------|\n",
        "|group()           |Return the string matched by the RE |\n",
        "|start()           | Return the starting position of the match |\n",
        "|end()             | Return the ending position of the match |\n",
        "|span()           | Return a tuple containing the (start, end) positions of the match |\n",
        "\n",
        "Trying these methods will soon clarify their meaning:"
      ],
      "metadata": {
        "id": "F3tMB99O2Y2j"
      }
    },
    {
      "cell_type": "code",
      "source": [
        "m.group()\n",
        "\n",
        "\n",
        "\n"
      ],
      "metadata": {
        "colab": {
          "base_uri": "https://localhost:8080/",
          "height": 36
        },
        "id": "TBRYEopE2Yk6",
        "outputId": "6d32a95a-a4ff-4f65-93c0-f5c6a4c1a857"
      },
      "execution_count": 65,
      "outputs": [
        {
          "output_type": "execute_result",
          "data": {
            "text/plain": [
              "'tempo'"
            ],
            "application/vnd.google.colaboratory.intrinsic+json": {
              "type": "string"
            }
          },
          "metadata": {},
          "execution_count": 65
        }
      ]
    },
    {
      "cell_type": "code",
      "source": [
        "m.start(), m.end()"
      ],
      "metadata": {
        "colab": {
          "base_uri": "https://localhost:8080/"
        },
        "id": "dWZ5fYwT2xEq",
        "outputId": "9f735b15-3ac5-49f5-8b4c-d8d690adc033"
      },
      "execution_count": 66,
      "outputs": [
        {
          "output_type": "execute_result",
          "data": {
            "text/plain": [
              "(0, 5)"
            ]
          },
          "metadata": {},
          "execution_count": 66
        }
      ]
    },
    {
      "cell_type": "code",
      "source": [
        "m.span()"
      ],
      "metadata": {
        "colab": {
          "base_uri": "https://localhost:8080/"
        },
        "id": "nxdgFZh_2yt6",
        "outputId": "836e22c9-d017-41e1-9a3a-c03d2eb56afa"
      },
      "execution_count": 67,
      "outputs": [
        {
          "output_type": "execute_result",
          "data": {
            "text/plain": [
              "(0, 5)"
            ]
          },
          "metadata": {},
          "execution_count": 67
        }
      ]
    },
    {
      "cell_type": "markdown",
      "source": [
        "group() returns the substring that was matched by the RE. start() and end() return the starting and ending index of the match. span() returns both start and end indexes in a single tuple. Since the match() method only checks if the RE matches at the start of a string, start() will always be zero. However, the search() method of patterns scans through the string, so the match may not start at zero in that case."
      ],
      "metadata": {
        "id": "9PZiRGze251q"
      }
    },
    {
      "cell_type": "code",
      "source": [
        "print(p.match('::: message'))"
      ],
      "metadata": {
        "colab": {
          "base_uri": "https://localhost:8080/"
        },
        "id": "lJefLjaG29yS",
        "outputId": "772d30ea-45eb-4182-fe05-b93ece6be993"
      },
      "execution_count": 68,
      "outputs": [
        {
          "output_type": "stream",
          "name": "stdout",
          "text": [
            "None\n"
          ]
        }
      ]
    },
    {
      "cell_type": "code",
      "source": [
        "m = p.search('::: message'); print(m)"
      ],
      "metadata": {
        "colab": {
          "base_uri": "https://localhost:8080/"
        },
        "id": "vKQfstC83CD7",
        "outputId": "c492dba4-f935-49a2-d792-f154cd197bc0"
      },
      "execution_count": 69,
      "outputs": [
        {
          "output_type": "stream",
          "name": "stdout",
          "text": [
            "<re.Match object; span=(4, 11), match='message'>\n"
          ]
        }
      ]
    },
    {
      "cell_type": "code",
      "source": [
        "m.group()"
      ],
      "metadata": {
        "colab": {
          "base_uri": "https://localhost:8080/",
          "height": 36
        },
        "id": "eKjoobQj3DRr",
        "outputId": "de262120-6896-44f1-c6ab-09ddd8879a55"
      },
      "execution_count": 70,
      "outputs": [
        {
          "output_type": "execute_result",
          "data": {
            "text/plain": [
              "'message'"
            ],
            "application/vnd.google.colaboratory.intrinsic+json": {
              "type": "string"
            }
          },
          "metadata": {},
          "execution_count": 70
        }
      ]
    },
    {
      "cell_type": "code",
      "source": [
        "m.span()"
      ],
      "metadata": {
        "colab": {
          "base_uri": "https://localhost:8080/"
        },
        "id": "Q-Lb5mO93HwS",
        "outputId": "73262c5a-8a3e-4727-d7ce-bcdd56e47969"
      },
      "execution_count": 71,
      "outputs": [
        {
          "output_type": "execute_result",
          "data": {
            "text/plain": [
              "(4, 11)"
            ]
          },
          "metadata": {},
          "execution_count": 71
        }
      ]
    },
    {
      "cell_type": "markdown",
      "source": [
        "In actual programs, the most common style is to store the match object in a variable, and then check if it was None. This usually looks like:\n",
        "\n",
        "p = re.compile( ... )\n",
        "\n",
        "m = p.match( 'string goes here' )\n",
        "\n",
        "if m:\n",
        "\n",
        "    print('Match found: ', m.group())\n",
        "\n",
        "else:\n",
        "\n",
        "    print('No match')"
      ],
      "metadata": {
        "id": "EYGV91hu3M0B"
      }
    },
    {
      "cell_type": "markdown",
      "source": [
        "Two pattern methods return all of the matches for a pattern. findall() returns a list of matching strings:"
      ],
      "metadata": {
        "id": "MNR-WoCx3eCC"
      }
    },
    {
      "cell_type": "code",
      "source": [
        "p = re.compile(r'\\d+')\n",
        "p.findall('12 drummers drumming, 11 pipers piping, 10 lords a-leaping')"
      ],
      "metadata": {
        "colab": {
          "base_uri": "https://localhost:8080/"
        },
        "id": "YBygHW2A3hAB",
        "outputId": "5dff0866-4319-4e61-b323-39fdb63df53a"
      },
      "execution_count": 72,
      "outputs": [
        {
          "output_type": "execute_result",
          "data": {
            "text/plain": [
              "['12', '11', '10']"
            ]
          },
          "metadata": {},
          "execution_count": 72
        }
      ]
    },
    {
      "cell_type": "markdown",
      "source": [
        "The r prefix, making the literal a raw string literal, is needed in this example because escape sequences in a normal “cooked” string literal that are not recognized by Python, as opposed to regular expressions, now result in a DeprecationWarning and will eventually become a SyntaxError. See The Backslash Plague.\n",
        "\n",
        "findall() has to create the entire list before it can be returned as the result. The finditer() method returns a sequence of match object instances as an iterator:"
      ],
      "metadata": {
        "id": "AS64TV_A3mLS"
      }
    },
    {
      "cell_type": "code",
      "source": [
        "iterator = p.finditer('12 drummers drumming, 11 ... 10 ...')\n",
        "iterator\n",
        "\n",
        "for match in iterator:\n",
        "    print(match.span())"
      ],
      "metadata": {
        "colab": {
          "base_uri": "https://localhost:8080/"
        },
        "id": "CibgUcXH3paT",
        "outputId": "2c63d155-cf31-40ef-9854-16fd6e89df50"
      },
      "execution_count": 73,
      "outputs": [
        {
          "output_type": "stream",
          "name": "stdout",
          "text": [
            "(0, 2)\n",
            "(22, 24)\n",
            "(29, 31)\n"
          ]
        }
      ]
    },
    {
      "cell_type": "markdown",
      "source": [
        "# Modifying Strings\n",
        "Up to this point, we’ve simply performed searches against a static string. Regular expressions are also commonly used to modify strings in various ways, using the following pattern methods:\n",
        "\n",
        "| Method/Attribute | Purpose |\n",
        "|------------------|---------|\n",
        "| split()          |Split the string into a list, splitting it wherever the RE matches|\n",
        "|sub() | Find all substrings where the RE matches, and replace them with a different string |\n",
        "|subn()          |Does the same thing as sub(), but returns the new string and the number of replacements |\n",
        "\n",
        "Splitting Strings\n",
        "\n",
        "The split() method of a pattern splits a string apart wherever the RE matches, returning a list of the pieces. It’s similar to the split() method of strings but provides much more generality in the delimiters that you can split by; string split() only supports splitting by whitespace or by a fixed string. As you’d expect, there’s a module-level re.split() function, too.\n",
        "\n",
        ".split(string[, maxsplit=0])\n",
        "\n",
        "Split string by the matches of the regular expression. If capturing parentheses are used in the RE, then their contents will also be returned as part of the resulting list. If maxsplit is nonzero, at most maxsplit splits are performed.\n",
        "\n",
        "You can limit the number of splits made, by passing a value for maxsplit. When maxsplit is nonzero, at most maxsplit splits will be made, and the remainder of the string is returned as the final element of the list. In the following example, the delimiter is any sequence of non-alphanumeric characters."
      ],
      "metadata": {
        "id": "UAzcmHGc7JvZ"
      }
    },
    {
      "cell_type": "code",
      "source": [
        "p = re.compile(r'\\W+')\n",
        "p.split('This is a test, short and sweet, of split().')"
      ],
      "metadata": {
        "id": "qDSW87kd7q8a",
        "outputId": "a679ef3c-be2f-4235-cabc-ac9a120f596f",
        "colab": {
          "base_uri": "https://localhost:8080/"
        }
      },
      "execution_count": 74,
      "outputs": [
        {
          "output_type": "execute_result",
          "data": {
            "text/plain": [
              "['This', 'is', 'a', 'test', 'short', 'and', 'sweet', 'of', 'split', '']"
            ]
          },
          "metadata": {},
          "execution_count": 74
        }
      ]
    },
    {
      "cell_type": "code",
      "source": [
        "p.split('This is a test, short and sweet, of split().', 3)"
      ],
      "metadata": {
        "id": "nUa_c7qm7z0A",
        "outputId": "b28d2aaf-2f8a-4655-dc01-e0e5d45dd48d",
        "colab": {
          "base_uri": "https://localhost:8080/"
        }
      },
      "execution_count": 75,
      "outputs": [
        {
          "output_type": "execute_result",
          "data": {
            "text/plain": [
              "['This', 'is', 'a', 'test, short and sweet, of split().']"
            ]
          },
          "metadata": {},
          "execution_count": 75
        }
      ]
    },
    {
      "cell_type": "markdown",
      "source": [
        "Sometimes you’re not only interested in what the text between delimiters is, but also need to know what the delimiter was. If capturing parentheses are used in the RE, then their values are also returned as part of the list. Compare the following calls:"
      ],
      "metadata": {
        "id": "M3rlIKBC77JY"
      }
    },
    {
      "cell_type": "code",
      "source": [
        "p = re.compile(r'\\W+')     # No delimiters\n",
        "p2 = re.compile(r'(\\W+)')  # With delimiters\n",
        "p.split('This... is a test.')"
      ],
      "metadata": {
        "id": "MIv0FuK778Kr",
        "outputId": "e7691944-62a6-48de-ee99-568412c14e79",
        "colab": {
          "base_uri": "https://localhost:8080/"
        }
      },
      "execution_count": 76,
      "outputs": [
        {
          "output_type": "execute_result",
          "data": {
            "text/plain": [
              "['This', 'is', 'a', 'test', '']"
            ]
          },
          "metadata": {},
          "execution_count": 76
        }
      ]
    },
    {
      "cell_type": "code",
      "source": [
        "\n",
        "p2.split('This... is a test.')"
      ],
      "metadata": {
        "id": "lECvJyGm8CVa",
        "outputId": "e088d80d-7505-4ccb-affe-97b2b28454f6",
        "colab": {
          "base_uri": "https://localhost:8080/"
        }
      },
      "execution_count": 77,
      "outputs": [
        {
          "output_type": "execute_result",
          "data": {
            "text/plain": [
              "['This', '... ', 'is', ' ', 'a', ' ', 'test', '.', '']"
            ]
          },
          "metadata": {},
          "execution_count": 77
        }
      ]
    },
    {
      "cell_type": "markdown",
      "source": [
        "The module-level function re.split() adds the RE to be used as the first argument, but is otherwise the same."
      ],
      "metadata": {
        "id": "SV9KMwD08TLh"
      }
    },
    {
      "cell_type": "code",
      "source": [
        "re.split(r'[\\W]+', 'Words, words, words.')\n",
        "\n"
      ],
      "metadata": {
        "id": "Q77_XzaX8Vg5",
        "outputId": "6926583a-5232-4875-8016-a12f4d1e7bb4",
        "colab": {
          "base_uri": "https://localhost:8080/"
        }
      },
      "execution_count": 78,
      "outputs": [
        {
          "output_type": "execute_result",
          "data": {
            "text/plain": [
              "['Words', 'words', 'words', '']"
            ]
          },
          "metadata": {},
          "execution_count": 78
        }
      ]
    },
    {
      "cell_type": "code",
      "source": [
        "re.split(r'([\\W]+)', 'Words, words, words.')\n",
        "\n"
      ],
      "metadata": {
        "id": "8IVdclAP8Wxo",
        "outputId": "3c622f1e-0594-4a05-9cc0-c5ca5dcbe294",
        "colab": {
          "base_uri": "https://localhost:8080/"
        }
      },
      "execution_count": 79,
      "outputs": [
        {
          "output_type": "execute_result",
          "data": {
            "text/plain": [
              "['Words', ', ', 'words', ', ', 'words', '.', '']"
            ]
          },
          "metadata": {},
          "execution_count": 79
        }
      ]
    },
    {
      "cell_type": "code",
      "source": [
        "re.split(r'[\\W]+', 'Words, words, words.', 1)"
      ],
      "metadata": {
        "id": "uNprRwCY8Xoh",
        "outputId": "28468da3-4d42-4e47-fce0-0d6e486e6e28",
        "colab": {
          "base_uri": "https://localhost:8080/"
        }
      },
      "execution_count": 80,
      "outputs": [
        {
          "output_type": "execute_result",
          "data": {
            "text/plain": [
              "['Words', 'words, words.']"
            ]
          },
          "metadata": {},
          "execution_count": 80
        }
      ]
    },
    {
      "cell_type": "markdown",
      "source": [
        "# Search and Replace\n",
        "\n",
        "Another common task is to find all the matches for a pattern, and replace them with a different string. The sub() method takes a replacement value, which can be either a string or a function, and the string to be processed.\n",
        "\n",
        ".sub(replacement, string[, count=0])\n",
        "Returns the string obtained by replacing the leftmost non-overlapping occurrences of the RE in string by the replacement replacement. If the pattern isn’t found, string is returned unchanged.\n",
        "\n",
        "The optional argument count is the maximum number of pattern occurrences to be replaced; count must be a non-negative integer. The default value of 0 means to replace all occurrences.\n",
        "\n",
        "Here’s a simple example of using the sub() method. It replaces colour names with the word colour:"
      ],
      "metadata": {
        "id": "aMGIn-dj8ja4"
      }
    },
    {
      "cell_type": "code",
      "source": [
        "p = re.compile('(blue|white|red)')\n",
        "p.sub('colour', 'blue socks and red shoes')"
      ],
      "metadata": {
        "id": "AC7xHgVQ8qew",
        "outputId": "5c4c8c48-9793-4d87-accb-b181f5421504",
        "colab": {
          "base_uri": "https://localhost:8080/",
          "height": 36
        }
      },
      "execution_count": 81,
      "outputs": [
        {
          "output_type": "execute_result",
          "data": {
            "text/plain": [
              "'colour socks and colour shoes'"
            ],
            "application/vnd.google.colaboratory.intrinsic+json": {
              "type": "string"
            }
          },
          "metadata": {},
          "execution_count": 81
        }
      ]
    },
    {
      "cell_type": "code",
      "source": [
        "p.sub('colour', 'blue socks and red shoes', count=1)"
      ],
      "metadata": {
        "id": "rTxmGPQA8uIz",
        "outputId": "20a3f369-5b7b-4ad5-ce1a-e19e52917f0b",
        "colab": {
          "base_uri": "https://localhost:8080/",
          "height": 36
        }
      },
      "execution_count": 82,
      "outputs": [
        {
          "output_type": "execute_result",
          "data": {
            "text/plain": [
              "'colour socks and red shoes'"
            ],
            "application/vnd.google.colaboratory.intrinsic+json": {
              "type": "string"
            }
          },
          "metadata": {},
          "execution_count": 82
        }
      ]
    },
    {
      "cell_type": "markdown",
      "source": [
        "The subn() method does the same work, but returns a 2-tuple containing the new string value and the number of replacements that were performed:"
      ],
      "metadata": {
        "id": "Ioe7KP1X8ydg"
      }
    },
    {
      "cell_type": "code",
      "source": [
        "p = re.compile('(blue|white|red)')\n",
        "p.subn('colour', 'blue socks and red shoes')"
      ],
      "metadata": {
        "id": "LSCFTlfj81TZ",
        "outputId": "a83c6094-bdc7-459c-ec01-94730fe09e22",
        "colab": {
          "base_uri": "https://localhost:8080/"
        }
      },
      "execution_count": 83,
      "outputs": [
        {
          "output_type": "execute_result",
          "data": {
            "text/plain": [
              "('colour socks and colour shoes', 2)"
            ]
          },
          "metadata": {},
          "execution_count": 83
        }
      ]
    },
    {
      "cell_type": "code",
      "source": [
        "p.subn('colour', 'no colours at all')"
      ],
      "metadata": {
        "id": "4F2xUHBK83sB",
        "outputId": "4fc24390-fd26-42b6-f516-eccfaec63288",
        "colab": {
          "base_uri": "https://localhost:8080/"
        }
      },
      "execution_count": 84,
      "outputs": [
        {
          "output_type": "execute_result",
          "data": {
            "text/plain": [
              "('no colours at all', 0)"
            ]
          },
          "metadata": {},
          "execution_count": 84
        }
      ]
    },
    {
      "cell_type": "markdown",
      "source": [
        "Empty matches are replaced only when they’re not adjacent to a previous empty match."
      ],
      "metadata": {
        "id": "B-f5z1G_87Ih"
      }
    },
    {
      "cell_type": "code",
      "source": [
        "p = re.compile('x*')\n",
        "p.sub('-', 'abxd')"
      ],
      "metadata": {
        "id": "UY9b_zQZ8645",
        "outputId": "2c66ef39-9b08-4668-9fc3-207b8078a1c5",
        "colab": {
          "base_uri": "https://localhost:8080/",
          "height": 36
        }
      },
      "execution_count": 85,
      "outputs": [
        {
          "output_type": "execute_result",
          "data": {
            "text/plain": [
              "'-a-b--d-'"
            ],
            "application/vnd.google.colaboratory.intrinsic+json": {
              "type": "string"
            }
          },
          "metadata": {},
          "execution_count": 85
        }
      ]
    },
    {
      "cell_type": "markdown",
      "source": [
        "If replacement is a string, any backslash escapes in it are processed. That is, \\n is converted to a single newline character, \\r is converted to a carriage return, and so forth. Unknown escapes such as \\& are left alone. Backreferences, such as \\6, are replaced with the substring matched by the corresponding group in the RE. This lets you incorporate portions of the original text in the resulting replacement string.\n",
        "\n",
        "This example matches the word section followed by a string enclosed in {, }, and changes section to subsection:"
      ],
      "metadata": {
        "id": "I4hlc9-R9F_o"
      }
    },
    {
      "cell_type": "code",
      "source": [
        "p = re.compile('section{ ( [^}]* ) }', re.VERBOSE)\n",
        "p.sub(r'subsection{\\1}','section{First} section{second}')"
      ],
      "metadata": {
        "id": "hvJUIjMl9I0i",
        "outputId": "a1526696-24f0-43a8-ccf5-f158503265fb",
        "colab": {
          "base_uri": "https://localhost:8080/",
          "height": 36
        }
      },
      "execution_count": 86,
      "outputs": [
        {
          "output_type": "execute_result",
          "data": {
            "text/plain": [
              "'subsection{First} subsection{second}'"
            ],
            "application/vnd.google.colaboratory.intrinsic+json": {
              "type": "string"
            }
          },
          "metadata": {},
          "execution_count": 86
        }
      ]
    },
    {
      "cell_type": "markdown",
      "source": [
        "There’s also a syntax for referring to named groups as defined by the (?P<name>...) syntax. \\g<name> will use the substring matched by the group named name, and \\g<number> uses the corresponding group number. \\g<2> is therefore equivalent to \\2, but isn’t ambiguous in a replacement string such as \\g<2>0. (\\20 would be interpreted as a reference to group 20, not a reference to group 2 followed by the literal character '0'.) The following substitutions are all equivalent, but use all three variations of the replacement string."
      ],
      "metadata": {
        "id": "SQGfsjwZ9MGg"
      }
    },
    {
      "cell_type": "code",
      "source": [
        "p = re.compile('section{ (?P<name> [^}]* ) }', re.VERBOSE)\n",
        "p.sub(r'subsection{\\1}','section{First}')\n",
        "\n"
      ],
      "metadata": {
        "id": "ORSR09tS9Pmg",
        "outputId": "e259f6f4-1125-49bc-898f-fa3bccc6f085",
        "colab": {
          "base_uri": "https://localhost:8080/",
          "height": 36
        }
      },
      "execution_count": 87,
      "outputs": [
        {
          "output_type": "execute_result",
          "data": {
            "text/plain": [
              "'subsection{First}'"
            ],
            "application/vnd.google.colaboratory.intrinsic+json": {
              "type": "string"
            }
          },
          "metadata": {},
          "execution_count": 87
        }
      ]
    },
    {
      "cell_type": "code",
      "source": [
        "p.sub(r'subsection{\\g<1>}','section{First}')"
      ],
      "metadata": {
        "id": "vZ9StJpD9P_a",
        "outputId": "80cc4528-5de4-47de-fb67-a3b825197bbe",
        "colab": {
          "base_uri": "https://localhost:8080/",
          "height": 36
        }
      },
      "execution_count": 88,
      "outputs": [
        {
          "output_type": "execute_result",
          "data": {
            "text/plain": [
              "'subsection{First}'"
            ],
            "application/vnd.google.colaboratory.intrinsic+json": {
              "type": "string"
            }
          },
          "metadata": {},
          "execution_count": 88
        }
      ]
    },
    {
      "cell_type": "code",
      "source": [
        "p.sub(r'subsection{\\g<name>}','section{First}')"
      ],
      "metadata": {
        "id": "79XTTDLO9QPZ",
        "outputId": "cadbc55d-ce02-44c4-a5ff-cc9105c5852f",
        "colab": {
          "base_uri": "https://localhost:8080/",
          "height": 36
        }
      },
      "execution_count": 89,
      "outputs": [
        {
          "output_type": "execute_result",
          "data": {
            "text/plain": [
              "'subsection{First}'"
            ],
            "application/vnd.google.colaboratory.intrinsic+json": {
              "type": "string"
            }
          },
          "metadata": {},
          "execution_count": 89
        }
      ]
    }
  ]
}