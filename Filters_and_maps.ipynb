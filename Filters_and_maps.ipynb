{
  "nbformat": 4,
  "nbformat_minor": 0,
  "metadata": {
    "colab": {
      "provenance": [],
      "authorship_tag": "ABX9TyOv3LWXqNQJiQelnuEU5a7S",
      "include_colab_link": true
    },
    "kernelspec": {
      "name": "python3",
      "display_name": "Python 3"
    },
    "language_info": {
      "name": "python"
    }
  },
  "cells": [
    {
      "cell_type": "markdown",
      "metadata": {
        "id": "view-in-github",
        "colab_type": "text"
      },
      "source": [
        "<a href=\"https://colab.research.google.com/github/trefftzc/cis500/blob/main/Filters_and_maps.ipynb\" target=\"_parent\"><img src=\"https://colab.research.google.com/assets/colab-badge.svg\" alt=\"Open In Colab\"/></a>"
      ]
    },
    {
      "cell_type": "code",
      "execution_count": null,
      "metadata": {
        "id": "I-8sO3S8tyY7"
      },
      "outputs": [],
      "source": []
    },
    {
      "cell_type": "markdown",
      "source": [
        "## Filters and Maps\n"
      ],
      "metadata": {
        "id": "q6_RLeJRt0MS"
      }
    },
    {
      "cell_type": "code",
      "source": [
        "\n",
        "numbers = [1, 2, 3, 4, 5, 6, 7, 8, 9, 10]\n",
        "\n",
        "intermediate1 = list(filter(lambda n: n%2 ==0,numbers))\n",
        "intermediate2 = list(map(lambda n: n*10,intermediate1))\n",
        "intermediate3 = list(map(lambda n: n+5,intermediate2))\n",
        "average = (lambda x: sum(x)/len(x))(intermediate3)\n",
        "print(intermediate3)\n",
        "print(average)"
      ],
      "metadata": {
        "colab": {
          "base_uri": "https://localhost:8080/"
        },
        "id": "TUtQuBYjt2y6",
        "outputId": "a6f185d6-d133-4fdb-c423-05f44c213100"
      },
      "execution_count": 10,
      "outputs": [
        {
          "output_type": "stream",
          "name": "stdout",
          "text": [
            "[25, 45, 65, 85, 105]\n",
            "65.0\n"
          ]
        }
      ]
    }
  ]
}